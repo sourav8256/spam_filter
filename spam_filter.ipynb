{
 "cells": [
  {
   "cell_type": "code",
   "execution_count": 14,
   "metadata": {
    "collapsed": true
   },
   "outputs": [],
   "source": [
    "import numpy as np\n",
    "import pandas as pd\n",
    "from sklearn.externals import joblib\n",
    "from sklearn.feature_extraction.text import CountVectorizer\n",
    "from sklearn.cross_validation import train_test_split\n",
    "from sklearn.naive_bayes import MultinomialNB"
   ]
  },
  {
   "cell_type": "code",
   "execution_count": 15,
   "metadata": {},
   "outputs": [],
   "source": [
    "model_file = 'model.sav'\n",
    "count_vector_file = 'count_vector.sav'"
   ]
  },
  {
   "cell_type": "code",
   "execution_count": 16,
   "metadata": {},
   "outputs": [],
   "source": [
    "def predict(sample):\n",
    "    cv = joblib.load(count_vector_file)\n",
    "    x_testcv = cv.transform([sample])\n",
    "    loaded_model = joblib.load(model_file)\n",
    "    predictions=loaded_model.predict(x_testcv)\n",
    "    prediction = predictions[0]\n",
    "    if prediction == 0:\n",
    "        print(\"Spam\")\n",
    "    else:\n",
    "        print(\"Not Spam\")"
   ]
  },
  {
   "cell_type": "code",
   "execution_count": 17,
   "metadata": {},
   "outputs": [],
   "source": [
    "def train():\n",
    "    df=pd.read_csv('smsspam',sep='\\t',names=['Status','Message'])\n",
    "    df.loc[df[\"Status\"]=='ham',\"Status\",]=1\n",
    "    df.loc[df[\"Status\"]=='spam',\"Status\",]=0\n",
    "    \n",
    "    df_x=df[\"Message\"]\n",
    "    df_y=df[\"Status\"]\n",
    "    \n",
    "    x_train, x_test, y_train, y_test = train_test_split(df_x, df_y, test_size=0.0, random_state=4)\n",
    "    cv1 = CountVectorizer()\n",
    "    x_traincv=cv1.fit_transform(x_train)\n",
    "    mnb = MultinomialNB()\n",
    "    y_train=y_train.astype('int')\n",
    "    mnb.fit(x_traincv,y_train)\n",
    "    # save the model to disk\n",
    "    joblib.dump(mnb, model_file)\n",
    "    # cv1.fit_transform(x_train)\n",
    "    joblib.dump(cv1,count_vector_file)"
   ]
  },
  {
   "cell_type": "code",
   "execution_count": 18,
   "metadata": {},
   "outputs": [],
   "source": [
    "train()"
   ]
  },
  {
   "cell_type": "code",
   "execution_count": 19,
   "metadata": {},
   "outputs": [
    {
     "name": "stdout",
     "output_type": "stream",
     "text": [
      "Not Spam\n"
     ]
    }
   ],
   "source": [
    "predict(\"let's win a lottery\")"
   ]
  },
  {
   "cell_type": "code",
   "execution_count": 20,
   "metadata": {},
   "outputs": [],
   "source": []
  },
  {
   "cell_type": "code",
   "execution_count": 14,
   "metadata": {},
   "outputs": [],
   "source": []
  },
  {
   "cell_type": "code",
   "execution_count": null,
   "metadata": {},
   "outputs": [],
   "source": []
  }
 ],
 "metadata": {
  "kernelspec": {
   "display_name": "Python 2",
   "language": "python",
   "name": "python2"
  },
  "language_info": {
   "codemirror_mode": {
    "name": "ipython",
    "version": 2
   },
   "file_extension": ".py",
   "mimetype": "text/x-python",
   "name": "python",
   "nbconvert_exporter": "python",
   "pygments_lexer": "ipython2",
   "version": "2.7.6"
  }
 },
 "nbformat": 4,
 "nbformat_minor": 0
}
